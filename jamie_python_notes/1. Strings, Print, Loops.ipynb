{
 "cells": [
  {
   "cell_type": "code",
   "execution_count": 1,
   "metadata": {},
   "outputs": [],
   "source": [
    "#First variable\n",
    "a = \"Jamie\"\n"
   ]
  },
  {
   "cell_type": "code",
   "execution_count": 2,
   "metadata": {},
   "outputs": [
    {
     "data": {
      "text/plain": [
       "'Jamie'"
      ]
     },
     "execution_count": 2,
     "metadata": {},
     "output_type": "execute_result"
    }
   ],
   "source": [
    "a #to get value"
   ]
  },
  {
   "cell_type": "code",
   "execution_count": 3,
   "metadata": {},
   "outputs": [
    {
     "ename": "NameError",
     "evalue": "name 'A' is not defined",
     "output_type": "error",
     "traceback": [
      "\u001b[1;31m---------------------------------------------------------------------------\u001b[0m",
      "\u001b[1;31mNameError\u001b[0m                                 Traceback (most recent call last)",
      "\u001b[1;32m<ipython-input-3-4610cde3668d>\u001b[0m in \u001b[0;36m<module>\u001b[1;34m\u001b[0m\n\u001b[1;32m----> 1\u001b[1;33m \u001b[0mA\u001b[0m \u001b[1;31m#Python is case sensitivje\u001b[0m\u001b[1;33m\u001b[0m\u001b[1;33m\u001b[0m\u001b[0m\n\u001b[0m",
      "\u001b[1;31mNameError\u001b[0m: name 'A' is not defined"
     ]
    }
   ],
   "source": [
    "A #Python is case sensitivje"
   ]
  },
  {
   "cell_type": "code",
   "execution_count": 8,
   "metadata": {},
   "outputs": [
    {
     "data": {
      "text/plain": [
       "'Jamie Tamhane'"
      ]
     },
     "execution_count": 8,
     "metadata": {},
     "output_type": "execute_result"
    }
   ],
   "source": [
    "#can add strings\n",
    "b = \" Tamhane\"\n",
    "c=a+b\n",
    "c"
   ]
  },
  {
   "cell_type": "code",
   "execution_count": null,
   "metadata": {},
   "outputs": [],
   "source": [
    "everything is an object in python. Therefore a vairable contains more than a value\n"
   ]
  },
  {
   "cell_type": "code",
   "execution_count": 12,
   "metadata": {},
   "outputs": [],
   "source": [
    "#find out the type of an object with inline help\n",
    "a?"
   ]
  },
  {
   "cell_type": "code",
   "execution_count": 24,
   "metadata": {},
   "outputs": [],
   "source": [
    "#inline helpo with method (press tab after to see list)\n",
    "#press shift tab inside the brackets to see what the function does \n",
    "#and + to expand\n"
   ]
  },
  {
   "cell_type": "markdown",
   "metadata": {},
   "source": [
    "d.split(d)#spits a sentence into its words\n",
    "d"
   ]
  },
  {
   "cell_type": "code",
   "execution_count": 27,
   "metadata": {},
   "outputs": [],
   "source": [
    "#or the functions inbuilt into pythion if not in notbook are type(a)\n",
    "#for all attributes/methods dir(a)"
   ]
  },
  {
   "cell_type": "markdown",
   "metadata": {},
   "source": [
    "# Print Functions"
   ]
  },
  {
   "cell_type": "code",
   "execution_count": 30,
   "metadata": {},
   "outputs": [
    {
     "name": "stdout",
     "output_type": "stream",
     "text": [
      "Jamie\n"
     ]
    }
   ],
   "source": [
    "print(a)"
   ]
  },
  {
   "cell_type": "code",
   "execution_count": 31,
   "metadata": {},
   "outputs": [
    {
     "name": "stdout",
     "output_type": "stream",
     "text": [
      "My var is: Jamie\n"
     ]
    }
   ],
   "source": [
    "print(\"My var is:\", a)"
   ]
  },
  {
   "cell_type": "code",
   "execution_count": 33,
   "metadata": {},
   "outputs": [
    {
     "name": "stdout",
     "output_type": "stream",
     "text": [
      "Jamie , Oh hi \n"
     ]
    }
   ],
   "source": [
    "b = \"Oh hi \"\n",
    "print(a,\",\",b)"
   ]
  },
  {
   "cell_type": "markdown",
   "metadata": {},
   "source": [
    "## Formatting"
   ]
  },
  {
   "cell_type": "markdown",
   "metadata": {},
   "source": [
    "### New way : F string"
   ]
  },
  {
   "cell_type": "code",
   "execution_count": 37,
   "metadata": {},
   "outputs": [
    {
     "name": "stdout",
     "output_type": "stream",
     "text": [
      " Its 50% off, it costs $100.0\n"
     ]
    }
   ],
   "source": [
    "a = 100. #the dot makes it declare as a float (adds a decimal on the end?)\n",
    "b = 50 # declared as an integer\n",
    "print(f\" Its {b}% off, it costs ${a}\") \n",
    "#Put name of the variable directly into the string"
   ]
  },
  {
   "cell_type": "markdown",
   "metadata": {},
   "source": [
    " Lots of ways to describe the format of the variable in a string\n",
    " https://docs.python.org/3/library/str..."
   ]
  },
  {
   "cell_type": "code",
   "execution_count": 61,
   "metadata": {},
   "outputs": [
    {
     "name": "stdout",
     "output_type": "stream",
     "text": [
      "It's 50% off, it costs 100 dollars\n"
     ]
    }
   ],
   "source": [
    "#Format a fixed pt number\n",
    "print(f\"It's {b}% off, it costs {a:3.0f} dollars\") #same formatting options"
   ]
  },
  {
   "cell_type": "markdown",
   "metadata": {},
   "source": [
    "we said we wanted a fixed point notation with an overal width of 3 characters and 0 after the decimal point (known as the precision)- float with 3 characters and none aftte the decimal"
   ]
  },
  {
   "cell_type": "code",
   "execution_count": 63,
   "metadata": {},
   "outputs": [
    {
     "name": "stdout",
     "output_type": "stream",
     "text": [
      "It's 50% off, it costs 100.0000000000000000000000000000000000000000000000000000000000000000000000000000000000000000000000000000 dollars\n"
     ]
    }
   ],
   "source": [
    "#Format a fixed pt number\n",
    "print(f\"It's {b}% off, it costs {a:3.100f} dollars\") #same formatting options"
   ]
  },
  {
   "cell_type": "markdown",
   "metadata": {},
   "source": [
    "by adding the 100 it will print 100 zeros"
   ]
  },
  {
   "cell_type": "code",
   "execution_count": 45,
   "metadata": {},
   "outputs": [
    {
     "name": "stdout",
     "output_type": "stream",
     "text": [
      "0100.0\n",
      "000100\n"
     ]
    }
   ],
   "source": [
    "#Pad a number on the left with zeros\n",
    "b=f\"{a:0>6}\"\n",
    "c=f\"{a:0>6.0f}\"\n",
    "print(b)\n",
    "print(c)"
   ]
  },
  {
   "cell_type": "code",
   "execution_count": 47,
   "metadata": {},
   "outputs": [
    {
     "name": "stdout",
     "output_type": "stream",
     "text": [
      "1.000000e+02\n",
      "1.000e+02\n"
     ]
    }
   ],
   "source": [
    "#Exponent notation\n",
    "print (f\"{a:e}\")\n",
    "print(f\"{a:.3e}\")"
   ]
  },
  {
   "cell_type": "markdown",
   "metadata": {},
   "source": [
    "### string method format \n",
    "str.format()"
   ]
  },
  {
   "cell_type": "code",
   "execution_count": 50,
   "metadata": {},
   "outputs": [
    {
     "name": "stdout",
     "output_type": "stream",
     "text": [
      "Its's 100.0 dollars\n"
     ]
    }
   ],
   "source": [
    "#place the variable in side the method into the location of {}\n",
    "print(\"Its's {} dollars\".format(a))"
   ]
  },
  {
   "cell_type": "code",
   "execution_count": 56,
   "metadata": {},
   "outputs": [
    {
     "name": "stdout",
     "output_type": "stream",
     "text": [
      "It's 50% off, it costs 100.0 dollars\n",
      "It's 50% off, it costs 100.0 dollars\n"
     ]
    }
   ],
   "source": [
    "#WHen putting several variables in the same string. can refer by position or name\n",
    "a=100.\n",
    "b=50\n",
    "print(\"It's {1}% off, it costs {0} dollars\".format(a,b))\n",
    "\n",
    "#OR\n",
    "print(\"It's {perc}% off, it costs {cost} dollars\".format(perc=b, cost=a))"
   ]
  },
  {
   "cell_type": "markdown",
   "metadata": {},
   "source": [
    "more details here!\n",
    "https://docs.python.org/3/library/string.html#format-specification-mini-language"
   ]
  },
  {
   "cell_type": "code",
   "execution_count": 60,
   "metadata": {},
   "outputs": [
    {
     "name": "stdout",
     "output_type": "stream",
     "text": [
      "It's 100 dollars\n"
     ]
    }
   ],
   "source": [
    "#Add more formatting\n",
    "print(\"It's {cost:3.0f} dollars\".format(cost=a)) #with keyword argument"
   ]
  },
  {
   "cell_type": "code",
   "execution_count": 64,
   "metadata": {},
   "outputs": [
    {
     "name": "stdout",
     "output_type": "stream",
     "text": [
      "It's 100.0 dollars\n"
     ]
    }
   ],
   "source": [
    "## old way DON\"T USE JUST INCASE YOU SEE IT!\n",
    "print(\"It's %s dollars\"%a)"
   ]
  },
  {
   "cell_type": "markdown",
   "metadata": {},
   "source": [
    "### Indexing\n",
    "Strings are indexable. They start at 0 in python\n",
    "Itsp possible to have negatives, thus -1 refers to the last element, -2 is one before the last"
   ]
  },
  {
   "cell_type": "code",
   "execution_count": 66,
   "metadata": {},
   "outputs": [
    {
     "data": {
      "text/plain": [
       "'a'"
      ]
     },
     "execution_count": 66,
     "metadata": {},
     "output_type": "execute_result"
    }
   ],
   "source": [
    "a = 'Jamie'\n",
    "a[1]"
   ]
  },
  {
   "cell_type": "code",
   "execution_count": 67,
   "metadata": {},
   "outputs": [
    {
     "data": {
      "text/plain": [
       "'e'"
      ]
     },
     "execution_count": 67,
     "metadata": {},
     "output_type": "execute_result"
    }
   ],
   "source": [
    "a[-1]"
   ]
  },
  {
   "cell_type": "code",
   "execution_count": 68,
   "metadata": {},
   "outputs": [
    {
     "data": {
      "text/plain": [
       "'m'"
      ]
     },
     "execution_count": 68,
     "metadata": {},
     "output_type": "execute_result"
    }
   ],
   "source": [
    "a[-3]"
   ]
  },
  {
   "cell_type": "markdown",
   "metadata": {},
   "source": [
    "## len() function\n",
    "returns the length of a whole bunch of objects. be careful when using is with more complex objects"
   ]
  },
  {
   "cell_type": "code",
   "execution_count": 69,
   "metadata": {},
   "outputs": [
    {
     "data": {
      "text/plain": [
       "5"
      ]
     },
     "execution_count": 69,
     "metadata": {},
     "output_type": "execute_result"
    }
   ],
   "source": [
    "len(a)"
   ]
  },
  {
   "cell_type": "markdown",
   "metadata": {},
   "source": [
    "### Slicing"
   ]
  },
  {
   "cell_type": "code",
   "execution_count": 71,
   "metadata": {},
   "outputs": [
    {
     "name": "stdout",
     "output_type": "stream",
     "text": [
      "J\n",
      "Jam\n"
     ]
    }
   ],
   "source": [
    "print(a[0:1]) #Last index isnt included. same as a[0]\n",
    "print(a[0:3])"
   ]
  },
  {
   "cell_type": "code",
   "execution_count": 72,
   "metadata": {},
   "outputs": [
    {
     "name": "stdout",
     "output_type": "stream",
     "text": [
      "Jam\n"
     ]
    }
   ],
   "source": [
    "print(a[:3]) #Start and end indexes can be omitted. This means everything from start to index\n"
   ]
  },
  {
   "cell_type": "code",
   "execution_count": 73,
   "metadata": {},
   "outputs": [
    {
     "name": "stdout",
     "output_type": "stream",
     "text": [
      "ie\n"
     ]
    }
   ],
   "source": [
    "print(a[3:]) #everything from index to end"
   ]
  },
  {
   "cell_type": "code",
   "execution_count": 74,
   "metadata": {},
   "outputs": [
    {
     "name": "stdout",
     "output_type": "stream",
     "text": [
      "Jme\n"
     ]
    }
   ],
   "source": [
    "print(a[::2]) #You can use a strinde. It means from start to end, print every other character\n"
   ]
  },
  {
   "cell_type": "code",
   "execution_count": 75,
   "metadata": {},
   "outputs": [
    {
     "name": "stdout",
     "output_type": "stream",
     "text": [
      "Jami\n"
     ]
    }
   ],
   "source": [
    "print(a[0:-1]) #Not whole string"
   ]
  },
  {
   "cell_type": "code",
   "execution_count": 76,
   "metadata": {},
   "outputs": [
    {
     "name": "stdout",
     "output_type": "stream",
     "text": [
      "Jami\n"
     ]
    }
   ],
   "source": [
    "print(a[:-1])"
   ]
  },
  {
   "cell_type": "code",
   "execution_count": 77,
   "metadata": {},
   "outputs": [
    {
     "name": "stdout",
     "output_type": "stream",
     "text": [
      "Jamie\n"
     ]
    }
   ],
   "source": [
    "print(a[0:len(a)]) #The whole string"
   ]
  },
  {
   "cell_type": "code",
   "execution_count": 78,
   "metadata": {},
   "outputs": [
    {
     "name": "stdout",
     "output_type": "stream",
     "text": [
      "Ja\n"
     ]
    }
   ],
   "source": [
    "print(a[0:len(a)-3]) #Can have expressions to define the indexes"
   ]
  },
  {
   "cell_type": "markdown",
   "metadata": {},
   "source": [
    "The slice 0:3 means \"Start at index 0 and go up to but not including index 3. The rule is that the difference between the upper and lower bounds is the number of values in the slice\""
   ]
  },
  {
   "cell_type": "markdown",
   "metadata": {},
   "source": [
    "# Loops\n",
    "Sortve inefficient in python so avoid if you can\n",
    "Can loop on anything iterable"
   ]
  },
  {
   "cell_type": "code",
   "execution_count": 79,
   "metadata": {},
   "outputs": [
    {
     "name": "stdout",
     "output_type": "stream",
     "text": [
      "J\n",
      "a\n",
      "m\n",
      "i\n",
      "e\n"
     ]
    }
   ],
   "source": [
    "for char in a:\n",
    "    print(char)"
   ]
  },
  {
   "cell_type": "markdown",
   "metadata": {},
   "source": [
    "Note syntax!! for, in, : indentation to define the loop"
   ]
  },
  {
   "cell_type": "code",
   "execution_count": 86,
   "metadata": {},
   "outputs": [
    {
     "name": "stdout",
     "output_type": "stream",
     "text": [
      "Indentation = in the loop\n",
      "Still in\n",
      "Indentation = in the loop\n",
      "Still in\n",
      "Indentation = in the loop\n",
      "Still in\n",
      "Indentation = in the loop\n",
      "Still in\n",
      "Indentation = in the loop\n",
      "Still in\n",
      "Outside the loop because not indented\n"
     ]
    }
   ],
   "source": [
    "for char in a:\n",
    "    print(\"Indentation = in the loop\")\n",
    "    print(\"Still in\")\n",
    "print(\"Outside the loop because not indented\")"
   ]
  },
  {
   "cell_type": "code",
   "execution_count": 85,
   "metadata": {},
   "outputs": [
    {
     "ename": "IndentationError",
     "evalue": "unexpected indent (<ipython-input-85-ab8c022b7e5d>, line 4)",
     "output_type": "error",
     "traceback": [
      "\u001b[1;36m  File \u001b[1;32m\"<ipython-input-85-ab8c022b7e5d>\"\u001b[1;36m, line \u001b[1;32m4\u001b[0m\n\u001b[1;33m    print(\"ok??\")\u001b[0m\n\u001b[1;37m    ^\u001b[0m\n\u001b[1;31mIndentationError\u001b[0m\u001b[1;31m:\u001b[0m unexpected indent\n"
     ]
    }
   ],
   "source": [
    "#Different Indentations = Error\n",
    "for char in a:\n",
    "      print(\"Hey\")\n",
    "        print(\"ok??\")"
   ]
  },
  {
   "cell_type": "markdown",
   "metadata": {},
   "source": [
    "## Loop over a range\n"
   ]
  },
  {
   "cell_type": "code",
   "execution_count": 88,
   "metadata": {},
   "outputs": [
    {
     "name": "stdout",
     "output_type": "stream",
     "text": [
      "3\n",
      "5\n",
      "7\n",
      "9\n",
      "11\n",
      "13\n",
      "15\n"
     ]
    }
   ],
   "source": [
    "for i in range(3,17,2): #End index is excluded again\n",
    "    print(i)"
   ]
  },
  {
   "cell_type": "markdown",
   "metadata": {},
   "source": [
    "prints starting from 3 to lower bound of 17 in a step of 2"
   ]
  },
  {
   "cell_type": "code",
   "execution_count": 89,
   "metadata": {},
   "outputs": [
    {
     "name": "stdout",
     "output_type": "stream",
     "text": [
      "0\n",
      "1\n",
      "2\n",
      "3\n",
      "4\n"
     ]
    }
   ],
   "source": [
    "for i in range(5):\n",
    "    print(i)"
   ]
  },
  {
   "cell_type": "markdown",
   "metadata": {},
   "source": [
    "## Nested Loop\n"
   ]
  },
  {
   "cell_type": "code",
   "execution_count": 90,
   "metadata": {},
   "outputs": [
    {
     "name": "stdout",
     "output_type": "stream",
     "text": [
      "J\n",
      "a\n",
      "m\n",
      "Index: 0\n",
      "J\n",
      "a\n",
      "m\n",
      "Index: 1\n"
     ]
    }
   ],
   "source": [
    "for i in range(2):\n",
    "    for char in a[:3]:\n",
    "        print(char)\n",
    "    print(\"Index:\", i) #In outer loop but not inner loop"
   ]
  },
  {
   "cell_type": "markdown",
   "metadata": {},
   "source": [
    "## Break/Continue Statements"
   ]
  },
  {
   "cell_type": "code",
   "execution_count": 94,
   "metadata": {},
   "outputs": [
    {
     "data": {
      "text/plain": [
       "5"
      ]
     },
     "execution_count": 94,
     "metadata": {},
     "output_type": "execute_result"
    }
   ],
   "source": [
    "for i in range(10):\n",
    "    if i == len(a):\n",
    "        break\n",
    "i\n"
   ]
  },
  {
   "cell_type": "markdown",
   "metadata": {},
   "source": [
    "There are also while loops which depend on condition true or false"
   ]
  },
  {
   "cell_type": "markdown",
   "metadata": {},
   "source": [
    "## If Constructs"
   ]
  },
  {
   "cell_type": "code",
   "execution_count": 96,
   "metadata": {},
   "outputs": [],
   "source": [
    "if \"l\" in a:\n",
    "    print(\"Chur bro\")\n",
    "#Useful for checking if something is in your object"
   ]
  },
  {
   "cell_type": "code",
   "execution_count": 97,
   "metadata": {},
   "outputs": [
    {
     "name": "stdout",
     "output_type": "stream",
     "text": [
      "Chur bro\n"
     ]
    }
   ],
   "source": [
    "if \"a\" in a:\n",
    "    print(\"Chur bro\")"
   ]
  },
  {
   "cell_type": "code",
   "execution_count": 98,
   "metadata": {},
   "outputs": [
    {
     "name": "stdout",
     "output_type": "stream",
     "text": [
      "Ye boi\n",
      "Look at that chonk\n"
     ]
    }
   ],
   "source": [
    "if \"Jamie\" != a:\n",
    "    print(\"Chur\")\n",
    "if not \"z\" in a:\n",
    "    print(\"Ye boi\")\n",
    "if \"z\" not in a:\n",
    "    print(\"Look at that chonk\")"
   ]
  },
  {
   "cell_type": "code",
   "execution_count": 108,
   "metadata": {},
   "outputs": [
    {
     "name": "stdout",
     "output_type": "stream",
     "text": [
      "yeah\n"
     ]
    }
   ],
   "source": [
    "# and / or\n",
    "if not \"z\" in a and \"J\" in a:\n",
    "    print(\"yeah\")"
   ]
  },
  {
   "cell_type": "markdown",
   "metadata": {},
   "source": [
    "More on Comparisons: https://docs.python.org/3/reference/e...\n",
    "\n",
    "\n",
    "Operator Precendence: https://docs.python.org/3/reference/e..."
   ]
  },
  {
   "cell_type": "markdown",
   "metadata": {},
   "source": [
    "## any() and all() functions"
   ]
  },
  {
   "cell_type": "markdown",
   "metadata": {},
   "source": [
    "any(x) returns true if at least 1 value in x is True\n",
    "\n",
    "all(x) return true if all values in x are True or x is null\n",
    "\n",
    "In python, 0, False are None are false. Everything else is true"
   ]
  },
  {
   "cell_type": "code",
   "execution_count": 109,
   "metadata": {},
   "outputs": [
    {
     "data": {
      "text/plain": [
       "True"
      ]
     },
     "execution_count": 109,
     "metadata": {},
     "output_type": "execute_result"
    }
   ],
   "source": [
    "all(a) # All characters in here are not 0 false or none"
   ]
  },
  {
   "cell_type": "code",
   "execution_count": 112,
   "metadata": {},
   "outputs": [
    {
     "name": "stdout",
     "output_type": "stream",
     "text": [
      "True False\n"
     ]
    }
   ],
   "source": [
    "b=\"\"\n",
    "print(all(b), any(b)) #empty string is a null string therefore is is true"
   ]
  },
  {
   "cell_type": "code",
   "execution_count": null,
   "metadata": {},
   "outputs": [],
   "source": []
  }
 ],
 "metadata": {
  "kernelspec": {
   "display_name": "Python 3",
   "language": "python",
   "name": "python3"
  },
  "language_info": {
   "codemirror_mode": {
    "name": "ipython",
    "version": 3
   },
   "file_extension": ".py",
   "mimetype": "text/x-python",
   "name": "python",
   "nbconvert_exporter": "python",
   "pygments_lexer": "ipython3",
   "version": "3.8.5"
  }
 },
 "nbformat": 4,
 "nbformat_minor": 4
}
