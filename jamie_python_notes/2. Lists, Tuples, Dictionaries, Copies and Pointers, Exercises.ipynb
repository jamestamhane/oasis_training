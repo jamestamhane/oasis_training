{
 "cells": [
  {
   "cell_type": "markdown",
   "metadata": {},
   "source": [
    "# LOOK AT PYTHON FUNCTIONS LIBRARY"
   ]
  },
  {
   "cell_type": "markdown",
   "metadata": {},
   "source": [
    "# Lists\n",
    "Looks like an array but isnt\n",
    "Is always 1D, can contain elements of different types (arrays are usually one type and several dimensions)\n",
    "\n",
    "Cna probably have any object as an element e.g. lists, strings, array\n",
    "\n",
    "USEFUL FOR: Creating a collection of objects"
   ]
  },
  {
   "cell_type": "code",
   "execution_count": 3,
   "metadata": {},
   "outputs": [
    {
     "name": "stdout",
     "output_type": "stream",
     "text": [
      "First list length  2\n",
      "I'm still 2 elements long 2\n",
      "Easy to add elements to lists [['a', 'b'], 3, 5]\n"
     ]
    }
   ],
   "source": [
    "li = [] #EMpty list\n",
    "li= ['a', 1] #List of 2 elements\n",
    "print(\"First list length \",len(li))\n",
    "li= [['a','b'],3] # A list can have another list as an element. But Li is still a 2 elements list\n",
    "print(\"I'm still 2 elements long\", len(li))\n",
    "li.append(5)\n",
    "print(\"Easy to add elements to lists\", li)"
   ]
  },
  {
   "cell_type": "markdown",
   "metadata": {},
   "source": [
    "Lists are indexable\n",
    "Lists are iterable and cen be used to build loops on'"
   ]
  },
  {
   "cell_type": "code",
   "execution_count": 6,
   "metadata": {},
   "outputs": [
    {
     "name": "stdout",
     "output_type": "stream",
     "text": [
      "['a', 'b']\n",
      "3\n",
      "5\n"
     ]
    }
   ],
   "source": [
    "for n in li:\n",
    "    print(n)"
   ]
  },
  {
   "cell_type": "markdown",
   "metadata": {},
   "source": [
    "List elements can be changed!!!!!!!!! Assign thinsg new values"
   ]
  },
  {
   "cell_type": "code",
   "execution_count": 7,
   "metadata": {},
   "outputs": [
    {
     "name": "stdout",
     "output_type": "stream",
     "text": [
      "['a', 'b']\n",
      "new\n",
      "['new', 3, 5]\n"
     ]
    }
   ],
   "source": [
    "print(li[0])\n",
    "li[0]='new'\n",
    "print(li[0])\n",
    "print(li)\n"
   ]
  },
  {
   "cell_type": "markdown",
   "metadata": {},
   "source": [
    "Strings are immutable objects. Elements cant be changed. "
   ]
  },
  {
   "cell_type": "code",
   "execution_count": 8,
   "metadata": {},
   "outputs": [
    {
     "ename": "TypeError",
     "evalue": "'str' object does not support item assignment",
     "output_type": "error",
     "traceback": [
      "\u001b[1;31m---------------------------------------------------------------------------\u001b[0m",
      "\u001b[1;31mTypeError\u001b[0m                                 Traceback (most recent call last)",
      "\u001b[1;32m<ipython-input-8-15ef131dd92a>\u001b[0m in \u001b[0;36m<module>\u001b[1;34m\u001b[0m\n\u001b[0;32m      1\u001b[0m \u001b[0ma\u001b[0m\u001b[1;33m=\u001b[0m\u001b[1;34m'Claire'\u001b[0m\u001b[1;33m\u001b[0m\u001b[1;33m\u001b[0m\u001b[0m\n\u001b[1;32m----> 2\u001b[1;33m \u001b[0ma\u001b[0m\u001b[1;33m[\u001b[0m\u001b[1;36m0\u001b[0m\u001b[1;33m]\u001b[0m\u001b[1;33m=\u001b[0m\u001b[1;34m'z'\u001b[0m\u001b[1;33m\u001b[0m\u001b[1;33m\u001b[0m\u001b[0m\n\u001b[0m\u001b[0;32m      3\u001b[0m \u001b[0ma\u001b[0m\u001b[1;33m\u001b[0m\u001b[1;33m\u001b[0m\u001b[0m\n",
      "\u001b[1;31mTypeError\u001b[0m: 'str' object does not support item assignment"
     ]
    }
   ],
   "source": [
    "a='Claire'\n",
    "a[0]='z'\n",
    "a"
   ]
  },
  {
   "cell_type": "markdown",
   "metadata": {},
   "source": [
    "If you have a subscriptable object as a list element how do you access this elements subscripts? For example the string new is subsciptable. How can i access the last characxter of the string?"
   ]
  },
  {
   "cell_type": "code",
   "execution_count": 9,
   "metadata": {},
   "outputs": [
    {
     "data": {
      "text/plain": [
       "'w'"
      ]
     },
     "execution_count": 9,
     "metadata": {},
     "output_type": "execute_result"
    }
   ],
   "source": [
    "li[0][-1]"
   ]
  },
  {
   "cell_type": "code",
   "execution_count": 10,
   "metadata": {},
   "outputs": [],
   "source": [
    "#cant do this for non subscriptable variables"
   ]
  },
  {
   "cell_type": "code",
   "execution_count": 11,
   "metadata": {},
   "outputs": [
    {
     "ename": "TypeError",
     "evalue": "'int' object is not subscriptable",
     "output_type": "error",
     "traceback": [
      "\u001b[1;31m---------------------------------------------------------------------------\u001b[0m",
      "\u001b[1;31mTypeError\u001b[0m                                 Traceback (most recent call last)",
      "\u001b[1;32m<ipython-input-11-4bb9c273e500>\u001b[0m in \u001b[0;36m<module>\u001b[1;34m\u001b[0m\n\u001b[1;32m----> 1\u001b[1;33m \u001b[0mli\u001b[0m\u001b[1;33m[\u001b[0m\u001b[1;36m1\u001b[0m\u001b[1;33m]\u001b[0m\u001b[1;33m[\u001b[0m\u001b[1;33m-\u001b[0m\u001b[1;36m1\u001b[0m\u001b[1;33m]\u001b[0m\u001b[1;33m\u001b[0m\u001b[1;33m\u001b[0m\u001b[0m\n\u001b[0m",
      "\u001b[1;31mTypeError\u001b[0m: 'int' object is not subscriptable"
     ]
    }
   ],
   "source": [
    "li[1][-1]"
   ]
  },
  {
   "cell_type": "markdown",
   "metadata": {},
   "source": [
    "## Convert an object to a list\n",
    "convery iterable functionto with builtin function list(). Each element of objhect will become an element of the list"
   ]
  },
  {
   "cell_type": "code",
   "execution_count": 13,
   "metadata": {},
   "outputs": [
    {
     "data": {
      "text/plain": [
       "['J', 'a', 'm', 'i', 'e']"
      ]
     },
     "execution_count": 13,
     "metadata": {},
     "output_type": "execute_result"
    }
   ],
   "source": [
    "a='Jamie'\n",
    "li=list(a)\n",
    "li"
   ]
  },
  {
   "cell_type": "code",
   "execution_count": 15,
   "metadata": {},
   "outputs": [
    {
     "data": {
      "text/plain": [
       "['Jamie']"
      ]
     },
     "execution_count": 15,
     "metadata": {},
     "output_type": "execute_result"
    }
   ],
   "source": [
    "li=[a]\n",
    "li"
   ]
  },
  {
   "cell_type": "markdown",
   "metadata": {},
   "source": [
    "# Tuples"
   ]
  },
  {
   "cell_type": "markdown",
   "metadata": {},
   "source": [
    "Lists but are immutable. Cant change just an element have to change the whole thing. Can be useful to keep things you dont want to chaneg in code. e.g lost of constansts or names of experiments\n"
   ]
  },
  {
   "cell_type": "code",
   "execution_count": 16,
   "metadata": {},
   "outputs": [
    {
     "data": {
      "text/plain": [
       "(1,)"
      ]
     },
     "execution_count": 16,
     "metadata": {},
     "output_type": "execute_result"
    }
   ],
   "source": [
    "t = () #empty tuple\n",
    "t = (1,2,3)\n",
    "t = 4,5,6 # Optional parentheses\n",
    "t = 1, #need comma to define a one element tupple\n",
    "t"
   ]
  },
  {
   "cell_type": "code",
   "execution_count": 17,
   "metadata": {},
   "outputs": [
    {
     "ename": "TypeError",
     "evalue": "'tuple' object does not support item assignment",
     "output_type": "error",
     "traceback": [
      "\u001b[1;31m---------------------------------------------------------------------------\u001b[0m",
      "\u001b[1;31mTypeError\u001b[0m                                 Traceback (most recent call last)",
      "\u001b[1;32m<ipython-input-17-6118e17fa9f0>\u001b[0m in \u001b[0;36m<module>\u001b[1;34m\u001b[0m\n\u001b[0;32m      1\u001b[0m \u001b[1;31m#immutable\u001b[0m\u001b[1;33m\u001b[0m\u001b[1;33m\u001b[0m\u001b[1;33m\u001b[0m\u001b[0m\n\u001b[0;32m      2\u001b[0m \u001b[0mt\u001b[0m\u001b[1;33m=\u001b[0m\u001b[1;36m1\u001b[0m\u001b[1;33m,\u001b[0m\u001b[1;36m2\u001b[0m\u001b[1;33m,\u001b[0m\u001b[1;36m3\u001b[0m\u001b[1;33m\u001b[0m\u001b[1;33m\u001b[0m\u001b[0m\n\u001b[1;32m----> 3\u001b[1;33m \u001b[0mt\u001b[0m\u001b[1;33m[\u001b[0m\u001b[1;36m0\u001b[0m\u001b[1;33m]\u001b[0m\u001b[1;33m=\u001b[0m\u001b[1;36m3\u001b[0m\u001b[1;33m\u001b[0m\u001b[1;33m\u001b[0m\u001b[0m\n\u001b[0m",
      "\u001b[1;31mTypeError\u001b[0m: 'tuple' object does not support item assignment"
     ]
    }
   ],
   "source": [
    "#immutable\n",
    "t=1,2,3\n",
    "t[0]=3"
   ]
  },
  {
   "cell_type": "markdown",
   "metadata": {},
   "source": [
    "## Convert to tuple\n",
    "Same as list with inbuilt function"
   ]
  },
  {
   "cell_type": "code",
   "execution_count": 18,
   "metadata": {},
   "outputs": [
    {
     "name": "stdout",
     "output_type": "stream",
     "text": [
      "(1, 3, 4)\n",
      "([1, 3, 4],)\n"
     ]
    }
   ],
   "source": [
    "a = [1,3,4]\n",
    "b = tuple(a)\n",
    "print(b)\n",
    "#Here again if you want to keep list as an element of the tuple\n",
    "c = (a, )\n",
    "print(c)"
   ]
  },
  {
   "cell_type": "markdown",
   "metadata": {},
   "source": [
    "# Copy or not?\n",
    "To reduce the memory footprint of a program, python will make pointers instead of copying the value. That means if 2 variables are the same mutable objects both will change if an element of one is changed. if one of the objects is assigned to smth else, then only this object wil chnage"
   ]
  },
  {
   "cell_type": "code",
   "execution_count": 21,
   "metadata": {},
   "outputs": [
    {
     "name": "stdout",
     "output_type": "stream",
     "text": [
      "[1, 2, 3] [2, 2, 3]\n"
     ]
    }
   ],
   "source": [
    "# If we change the first element of one list, the other ones changes too\n",
    "li=[1,2,3]\n",
    "li2 =li\n",
    "li2[0]=2\n",
    "print(li,li2)"
   ]
  },
  {
   "cell_type": "code",
   "execution_count": 24,
   "metadata": {},
   "outputs": [
    {
     "name": "stdout",
     "output_type": "stream",
     "text": [
      "[2, 2, 3] [1, 2, 3]\n"
     ]
    }
   ],
   "source": [
    "#If we reassign li to a different list (even if same initally), only li changfes, \n",
    "li = [1,2,3]\n",
    "print(li2,li)"
   ]
  },
  {
   "cell_type": "markdown",
   "metadata": {},
   "source": [
    "The easiest way to copy a mutable object is wit hthe list and dict functions. This makes a shallow copyy of the object which is usally enough"
   ]
  },
  {
   "cell_type": "code",
   "execution_count": 25,
   "metadata": {},
   "outputs": [
    {
     "name": "stdout",
     "output_type": "stream",
     "text": [
      "[2, 2, 3] [2, 2, 3]\n"
     ]
    }
   ],
   "source": [
    "li=[1,2,3]\n",
    "li2 =li\n",
    "li2[0]=2\n",
    "print(li,li2)"
   ]
  },
  {
   "cell_type": "code",
   "execution_count": null,
   "metadata": {},
   "outputs": [],
   "source": [
    "#################VERSES"
   ]
  },
  {
   "cell_type": "code",
   "execution_count": 26,
   "metadata": {},
   "outputs": [
    {
     "name": "stdout",
     "output_type": "stream",
     "text": [
      "[1, 2, 3] [2, 2, 3]\n"
     ]
    }
   ],
   "source": [
    "li=[1,2,3]\n",
    "li2 =list(li) ############################## LIST FUNCTION\n",
    "li2[0]=2\n",
    "print(li,li2)"
   ]
  },
  {
   "cell_type": "markdown",
   "metadata": {},
   "source": [
    "# Dictionaries\n",
    "Allow you to label values (called structures in other languages)\n",
    "If you want to keep track of a grid descritopm. you might need a grid name, first lon/lat the resoloution, last lon/lat.\n",
    "A dictionary allows you to keep all those values together in one object and allows you to refer to each by name and ineadt of position "
   ]
  },
  {
   "cell_type": "code",
   "execution_count": 28,
   "metadata": {},
   "outputs": [
    {
     "data": {
      "text/plain": [
       "{'name': 'my grid',\n",
       " 'first_lon': -180.0,\n",
       " 'first_lat': -90.0,\n",
       " 'last_lon': 90.0,\n",
       " 'res': 0.5}"
      ]
     },
     "execution_count": 28,
     "metadata": {},
     "output_type": "execute_result"
    }
   ],
   "source": [
    "d={\n",
    "    \"name\":\"my grid\",\n",
    "    \"first_lon\":-180.,\n",
    "    \"first_lat\":-90.,\n",
    "    \"last_lon\":90.,\n",
    "    \"res\":0.5\n",
    "}\n",
    "d"
   ]
  },
  {
   "cell_type": "code",
   "execution_count": 29,
   "metadata": {},
   "outputs": [
    {
     "data": {
      "text/plain": [
       "'my grid'"
      ]
     },
     "execution_count": 29,
     "metadata": {},
     "output_type": "execute_result"
    }
   ],
   "source": [
    "d[\"name\"]"
   ]
  },
  {
   "cell_type": "markdown",
   "metadata": {},
   "source": [
    "the values associated to each key can be very complicated\n",
    "e.g can have first and last point keys each pointing to a dictionary with lat and lon as keys"
   ]
  },
  {
   "cell_type": "code",
   "execution_count": 75,
   "metadata": {},
   "outputs": [
    {
     "name": "stdout",
     "output_type": "stream",
     "text": [
      "{'lon': -180.0, 'lat': -90.0} {'lon': 180.0, 'lat': 90.0}\n"
     ]
    }
   ],
   "source": [
    "point0={\"lon\":-180., \"lat\":-90.}\n",
    "point1=dict(point0)\n",
    "point1[\"lon\"] =180.\n",
    "point1[\"lat\"]=90.\n",
    "print(point0, point1)"
   ]
  },
  {
   "cell_type": "code",
   "execution_count": 81,
   "metadata": {},
   "outputs": [
    {
     "data": {
      "text/plain": [
       "{'lon': -180.0, 'lat': -90.0}"
      ]
     },
     "execution_count": 81,
     "metadata": {},
     "output_type": "execute_result"
    }
   ],
   "source": [
    "d={'name':\"my_grid\", \"first_point\": point0, \"last_point\":point1, \"res\":0.5}\n",
    "d[\"first_point\"]"
   ]
  },
  {
   "cell_type": "code",
   "execution_count": 82,
   "metadata": {},
   "outputs": [
    {
     "data": {
      "text/plain": [
       "{'lon': 180.0, 'lat': 90.0}"
      ]
     },
     "execution_count": 82,
     "metadata": {},
     "output_type": "execute_result"
    }
   ],
   "source": [
    "d[\"last_point\"]"
   ]
  },
  {
   "cell_type": "code",
   "execution_count": 83,
   "metadata": {},
   "outputs": [
    {
     "data": {
      "text/plain": [
       "-180.0"
      ]
     },
     "execution_count": 83,
     "metadata": {},
     "output_type": "execute_result"
    }
   ],
   "source": [
    "d[\"first_point\"][\"lon\"]"
   ]
  },
  {
   "cell_type": "markdown",
   "metadata": {},
   "source": [
    "## Gey the Keys and Values\n",
    "Useful for viewing dictionaries"
   ]
  },
  {
   "cell_type": "code",
   "execution_count": 85,
   "metadata": {},
   "outputs": [
    {
     "name": "stdout",
     "output_type": "stream",
     "text": [
      "name\n",
      "first_point\n",
      "last_point\n",
      "res\n",
      "End keys \n",
      "\n",
      "my_grid\n",
      "{'lon': -180.0, 'lat': -90.0}\n",
      "{'lon': 180.0, 'lat': 90.0}\n",
      "0.5\n",
      "End values \n",
      "\n",
      "name my_grid\n",
      "first_point {'lon': -180.0, 'lat': -90.0}\n",
      "last_point {'lon': 180.0, 'lat': 90.0}\n",
      "res 0.5\n",
      "End pairs \n",
      "\n",
      "('name', 'my_grid')\n",
      "('first_point', {'lon': -180.0, 'lat': -90.0})\n",
      "('last_point', {'lon': 180.0, 'lat': 90.0})\n",
      "('res', 0.5)\n"
     ]
    }
   ],
   "source": [
    "# Get the keys in a dictionary\n",
    "for k in d.keys():\n",
    "    print(k)\n",
    "print('End keys \\n')\n",
    "\n",
    "# Get the values\n",
    "for v in d.values():\n",
    "    print(v)\n",
    "print(\"End values \\n\")\n",
    "\n",
    "#Get the pairs of keys and values:\n",
    "for k, v in d.items():\n",
    "    print(k,v)\n",
    "print(\"End pairs \\n\")\n",
    "\n",
    "# AS you can see here loops can have several loop variables\n",
    "# If we gicve only 1 loop variable\n",
    "for k in d.items():\n",
    "    print(k)\n",
    "    \n"
   ]
  },
  {
   "cell_type": "markdown",
   "metadata": {},
   "source": [
    "### Add a (key,value) pair"
   ]
  },
  {
   "cell_type": "code",
   "execution_count": 92,
   "metadata": {},
   "outputs": [
    {
     "data": {
      "text/plain": [
       "{'name': 'my_grid',\n",
       " 'first_point': {'lon': -180.0, 'lat': -90.0},\n",
       " 'last_point': {'lon': 180.0, 'lat': 90.0},\n",
       " 'res': 0.5,\n",
       " 'projection': 'cartesian',\n",
       " 'dick size': 0.3,\n",
       " 'grid size': 0.3}"
      ]
     },
     "execution_count": 92,
     "metadata": {},
     "output_type": "execute_result"
    }
   ],
   "source": [
    "d['projection']='cartesian'\n",
    "d\n",
    "#Or\n",
    "d['grid size']=0.3\n",
    "d"
   ]
  },
  {
   "cell_type": "markdown",
   "metadata": {},
   "source": [
    "##  formating"
   ]
  },
  {
   "cell_type": "markdown",
   "metadata": {},
   "source": [
    "string formatiing with dictionaries\n",
    "With dictionaries str.format can be useful"
   ]
  },
  {
   "cell_type": "code",
   "execution_count": 101,
   "metadata": {},
   "outputs": [
    {
     "name": "stdout",
     "output_type": "stream",
     "text": [
      "{'name': 'my_grid', 'first_point': [-180.0, -90.0], 'last_point': [180.0, 90.0], 'res': 0.5}\n",
      "My Grid my_grid has 0.5\n",
      "My Grid my_grid has 0.5 degrees resoloution, starts at [-180.0, -90.0], ends at [180.0, 90.0]\n"
     ]
    }
   ],
   "source": [
    "#Define a dictionary\n",
    "point0=[-180., -90.]\n",
    "point1=[180.,90.]\n",
    "d={'name':\"my_grid\", \"first_point\": point0, \"last_point\":point1, \"res\":0.5}\n",
    "print(d)\n",
    "#Lets priont all nicely with f strings and then str.format()\n",
    "print(f\"My Grid {d['name']} has {d['res']}\") #ANd so on..too wordy try next method\n",
    "print(\"My Grid {name} has {res} degrees resoloution, starts at {first_point}, ends at {last_point}\".format(**d))"
   ]
  },
  {
   "cell_type": "markdown",
   "metadata": {},
   "source": [
    "the ** operators allows us to take a dictionary of key value pairs and unpack it into keyword arugments ina function call. iT can be useful in other functions. Can be useful to define plot characteristics"
   ]
  },
  {
   "cell_type": "markdown",
   "metadata": {},
   "source": [
    "# Exercises\n",
    "Splitting a string\n",
    "Split the string along the _ Seperator"
   ]
  },
  {
   "cell_type": "code",
   "execution_count": 9,
   "metadata": {},
   "outputs": [
    {
     "data": {
      "text/plain": [
       "['Jamie', 'Tamhane', 'Is', 'Fresh.nc']"
      ]
     },
     "execution_count": 9,
     "metadata": {},
     "output_type": "execute_result"
    }
   ],
   "source": [
    "#Use the ? to see the help to use the method\n",
    "a=\"Jamie_Tamhane_Is_Fresh.nc\"\n",
    "b=a.split(sep=\"_\")\n",
    "b"
   ]
  },
  {
   "cell_type": "markdown",
   "metadata": {},
   "source": [
    "Joining a string back"
   ]
  },
  {
   "cell_type": "code",
   "execution_count": 15,
   "metadata": {},
   "outputs": [
    {
     "data": {
      "text/plain": [
       "'Fresh.nc'"
      ]
     },
     "execution_count": 15,
     "metadata": {},
     "output_type": "execute_result"
    }
   ],
   "source": [
    "#Need a seperate joiner for the . symbol\n",
    "c='.'.join(b[-1:])\n",
    "c"
   ]
  },
  {
   "cell_type": "code",
   "execution_count": 19,
   "metadata": {},
   "outputs": [
    {
     "data": {
      "text/plain": [
       "'Jamie_Tamhane_Is_Fresh.nc'"
      ]
     },
     "execution_count": 19,
     "metadata": {},
     "output_type": "execute_result"
    }
   ],
   "source": [
    "#Need another for the _ joining\n",
    "c='.'.join(b[-1:])\n",
    "d = '_'.join([b[-2],c])\n",
    "f= b[:-2]\n",
    "f.append(d) #Formatting\n",
    "\"_\".join(f)"
   ]
  },
  {
   "cell_type": "markdown",
   "metadata": {},
   "source": [
    "## Zip function\n",
    "It allows you to zip together 2 iterables. The first elements of the 2 originals become together the 1st element of the result"
   ]
  },
  {
   "cell_type": "code",
   "execution_count": 21,
   "metadata": {},
   "outputs": [
    {
     "data": {
      "text/plain": [
       "[('j', 'T'), ('a', 'a'), ('m', 'm'), ('i', 'h'), ('e', 'a')]"
      ]
     },
     "execution_count": 21,
     "metadata": {},
     "output_type": "execute_result"
    }
   ],
   "source": [
    "a = \"Jamie\"\n",
    "b= \"Tamhane\"\n",
    "c=list(zip(a,b))\n",
    "c"
   ]
  },
  {
   "cell_type": "markdown",
   "metadata": {},
   "source": [
    "Given the 2 lists below create a dictionary where the keys come from the list \"keys\" and the values from \"values\" WAY MORE USEFUL WAY!!!"
   ]
  },
  {
   "cell_type": "code",
   "execution_count": 26,
   "metadata": {},
   "outputs": [
    {
     "ename": "SyntaxError",
     "evalue": "can't use starred expression here (<ipython-input-26-1a330a6f43da>, line 4)",
     "output_type": "error",
     "traceback": [
      "\u001b[1;36m  File \u001b[1;32m\"<ipython-input-26-1a330a6f43da>\"\u001b[1;36m, line \u001b[1;32m4\u001b[0m\n\u001b[1;33m    *d\u001b[0m\n\u001b[1;37m    ^\u001b[0m\n\u001b[1;31mSyntaxError\u001b[0m\u001b[1;31m:\u001b[0m can't use starred expression here\n"
     ]
    }
   ],
   "source": [
    "keys=['name', 'age', 'place']\n",
    "values=['Jamie', 22, 'Sydney']\n",
    "d = dict(zip(keys, values))\n",
    "jd"
   ]
  },
  {
   "cell_type": "code",
   "execution_count": null,
   "metadata": {},
   "outputs": [],
   "source": []
  }
 ],
 "metadata": {
  "kernelspec": {
   "display_name": "Python 3",
   "language": "python",
   "name": "python3"
  },
  "language_info": {
   "codemirror_mode": {
    "name": "ipython",
    "version": 3
   },
   "file_extension": ".py",
   "mimetype": "text/x-python",
   "name": "python",
   "nbconvert_exporter": "python",
   "pygments_lexer": "ipython3",
   "version": "3.8.5"
  }
 },
 "nbformat": 4,
 "nbformat_minor": 4
}
