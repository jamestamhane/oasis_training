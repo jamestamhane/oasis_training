{
 "cells": [
  {
   "cell_type": "markdown",
   "metadata": {},
   "source": [
    "# Function"
   ]
  },
  {
   "cell_type": "markdown",
   "metadata": {},
   "source": [
    "## Define"
   ]
  },
  {
   "cell_type": "code",
   "execution_count": 1,
   "metadata": {},
   "outputs": [],
   "source": [
    "def my_function(arg1, arg2):\n",
    "    #body of function is indented once\n",
    "    '''Here i can say what my function dooes.\n",
    "        And I can use several lines\n",
    "        arg1: It is a good idea to define arguments as well\n",
    "        arg2: And another one'''\n",
    "    print(f'I am going to add {arg1} and {arg2} together')\n",
    "    total = arg1+ arg2\n",
    "    return total"
   ]
  },
  {
   "cell_type": "code",
   "execution_count": 2,
   "metadata": {},
   "outputs": [
    {
     "name": "stdout",
     "output_type": "stream",
     "text": [
      "I am going to add 110 and 21000 together\n",
      "21110\n"
     ]
    }
   ],
   "source": [
    "add=my_function(110,21000) # Caling the function\n",
    "print(add)"
   ]
  },
  {
   "cell_type": "markdown",
   "metadata": {},
   "source": [
    "## Type of Arguments\n",
    "Can specify these in different ways. You can have required and optional arguments, you can give arguments by position (like above) or by name"
   ]
  },
  {
   "cell_type": "code",
   "execution_count": 4,
   "metadata": {},
   "outputs": [
    {
     "name": "stdout",
     "output_type": "stream",
     "text": [
      "I am going to add 2 and 10 together\n",
      "12\n"
     ]
    }
   ],
   "source": [
    "# Give arguments per name (keyword argument)\n",
    "add=my_function(arg2=10, arg1=2)\n",
    "print(add)\n",
    "\n",
    "#The following is illegal as positional arguments need to be first listed.\n",
    "#add=my_function(arg2=1,2) #This has 2 values for arg2\n",
    "#If mising positional and keyword arguments, poistional arguments are attribiuted in order so the following\n",
    "# Does not work\n",
    "#add=my_function(2,arg1=1) #This technically has 2 values for arg1"
   ]
  },
  {
   "cell_type": "code",
   "execution_count": 13,
   "metadata": {},
   "outputs": [
    {
     "name": "stdout",
     "output_type": "stream",
     "text": [
      "2\n",
      "8\n"
     ]
    }
   ],
   "source": [
    "#Optional arguments\n",
    "def my_function(arg1,opt=False):\n",
    "    if opt is not False:\n",
    "        return(arg1*opt)\n",
    "    else:\n",
    "        return(arg1)\n",
    "print(my_function(2))\n",
    "print(my_function(2,4))"
   ]
  },
  {
   "cell_type": "markdown",
   "metadata": {},
   "source": [
    "WHats happening in the following??/\n",
    "Whats happens is that for Python, 0 is false. So if '0' is false and the else section is excecuted."
   ]
  },
  {
   "cell_type": "code",
   "execution_count": 14,
   "metadata": {},
   "outputs": [
    {
     "name": "stdout",
     "output_type": "stream",
     "text": [
      "1\n"
     ]
    }
   ],
   "source": [
    "def my_function(arg1, opt=None):\n",
    "    if opt: #This is false when opt is considered false Python considers this as None, False or 0\n",
    "        #Be sure to do the right if condition, this is very arbitrary\n",
    "        return(arg1*opt)\n",
    "    else:\n",
    "        return(arg1)\n",
    "    \n",
    "print(my_function(1,0))"
   ]
  },
  {
   "cell_type": "code",
   "execution_count": 16,
   "metadata": {},
   "outputs": [
    {
     "name": "stdout",
     "output_type": "stream",
     "text": [
      "6\n",
      "21\n"
     ]
    }
   ],
   "source": [
    "#Optional arguments can also be used to define default values instead of nothing:\n",
    "def add_5_or(arg1, opt=5):\n",
    "    return(arg1+opt)\n",
    "\n",
    "print(add_5_or(1))\n",
    "print(add_5_or(1,20))"
   ]
  },
  {
   "cell_type": "code",
   "execution_count": 18,
   "metadata": {},
   "outputs": [
    {
     "name": "stdout",
     "output_type": "stream",
     "text": [
      "5\n",
      "5\n"
     ]
    }
   ],
   "source": [
    "#USe lits/tuples or dictionaries to specify arguments\n",
    "t=(1,4)\n",
    "print(add_5_or(*t))\n",
    "\n",
    "dic={'arg1':1, 'opt':4}\n",
    "print(add_5_or(**dic))"
   ]
  },
  {
   "cell_type": "markdown",
   "metadata": {},
   "source": [
    "if you remembe we saw  ** operator last weeek with the str.format() method. It is the same here. \n",
    "Specifiying arguemnst via a dcitionary can be useful for specifying  options for plot routines. When tailoring plots, we usually end up with lots of options. Defining a dictionary for those can allow for a more readable code and for easier reuse of the options between plots\n"
   ]
  },
  {
   "cell_type": "code",
   "execution_count": 20,
   "metadata": {},
   "outputs": [
    {
     "data": {
      "text/plain": [
       "[<matplotlib.lines.Line2D at 0x1cc5dd06310>]"
      ]
     },
     "execution_count": 20,
     "metadata": {},
     "output_type": "execute_result"
    },
    {
     "data": {
      "image/png": "[encoded data removed]",
      "text/plain": [
       "<Figure size 432x288 with 1 Axes>"
      ]
     },
     "metadata": {
      "needs_background": "light"
     },
     "output_type": "display_data"
    }
   ],
   "source": [
    "#An example for plots:\n",
    "import matplotlib.pyplot as plt\n",
    "plt.plot([0,1],[0,1])"
   ]
  },
  {
   "cell_type": "code",
   "execution_count": 24,
   "metadata": {},
   "outputs": [
    {
     "data": {
      "text/plain": [
       "[<matplotlib.lines.Line2D at 0x1cc72f82fd0>]"
      ]
     },
     "execution_count": 24,
     "metadata": {},
     "output_type": "execute_result"
    },
    {
     "data": {
      "image/png": "[encoded data removed]",
      "text/plain": [
       "<Figure size 432x288 with 1 Axes>"
      ]
     },
     "metadata": {
      "needs_background": "light"
     },
     "output_type": "display_data"
    }
   ],
   "source": [
    "plot_opt={\"linewidth\":5,\n",
    "         \"color\":\"pink\",\n",
    "         \"marker\":\"o\",\n",
    "         \"markersize\":15,\n",
    "         \"fillstyle\":\"none\"}\n",
    "plt.plot([0,1],[0,1],**plot_opt)"
   ]
  },
  {
   "cell_type": "markdown",
   "metadata": {},
   "source": [
    "Global vs Local scope\n",
    "Variables defined in a a function are local, unknown from the outside of the function. On the other hand, variables defined outside a function are known to the functions are they are in a scope comprising the function\n",
    "Run the following code, Do you udnerstand it?"
   ]
  },
  {
   "cell_type": "code",
   "execution_count": 43,
   "metadata": {
    "scrolled": true
   },
   "outputs": [
    {
     "name": "stdout",
     "output_type": "stream",
     "text": [
      "After the function 2\n",
      "Final add: 9\n"
     ]
    }
   ],
   "source": [
    "#total=0\n",
    "def summing(arg1, arg2):\n",
    "    total = arg1+arg2\n",
    "    return total\n",
    "add= summing(1,2)\n",
    "print(\"After the function\", total)\n"
   ]
  },
  {
   "cell_type": "code",
   "execution_count": 44,
   "metadata": {},
   "outputs": [
    {
     "name": "stdout",
     "output_type": "stream",
     "text": [
      "After the function 0\n",
      "Final add: 9\n"
     ]
    }
   ],
   "source": [
    "total=0\n",
    "def summing(arg1, arg2):\n",
    "    total = arg1+arg2\n",
    "    return total\n",
    "add= summing(1,2)\n",
    "print(\"After the function\", total)\n",
    "\n",
    "#What not to do!!!!!!!!!!!!, As pyuthon will go outside the function. Never use variables that havent be defined in functions\n",
    "total=2\n",
    "def sum2(arg1, arg2):\n",
    "    tt= arg1+arg2+total #Total still works here even though not defined in the function, if it isnt found insid eteh functionit loosk outside for the value\n",
    "    return tt\n",
    "add = sum2(3,4)\n",
    "print(\"Final add:\", add)"
   ]
  },
  {
   "cell_type": "markdown",
   "metadata": {},
   "source": [
    "Notice the difference between these two pieces of code. In the first instance when we take out the total = 0 outside the function the argumennt return is 2, because we define the value of total inside the function. However when we define the variable total = 0 outside the function it overwrites as it is a scope oustide the function. Never use a variable in a function that is undefined outside of function"
   ]
  },
  {
   "cell_type": "markdown",
   "metadata": {},
   "source": [
    "## Pass by Reference vs Value\n",
    "Puthon passes arguments per reference. That means they still point to the same location in memory outside and within a function.\n",
    "Do you understand the following example?"
   ]
  },
  {
   "cell_type": "markdown",
   "metadata": {},
   "source": [
    "def changeme(li):\n",
    "    li[0] = 3 #Only first element changed\n",
    "    return\n",
    "def changeme2(li):\n",
    "    li=[5,4] #Here we just completely redefined the list, local variable poi\n",
    "    return #SO this func doesnt reall do anything \n",
    "\n",
    "li=[1,2]\n",
    "print(f\"List at the start: {li}\")\n",
    "\n",
    "changeme(li)\n",
    "print(f\"List after changeme:{li}\")\n",
    "\n",
    "changeme2(li)\n",
    "print(f\"List after changeme2: {li}\")"
   ]
  },
  {
   "cell_type": "code",
   "execution_count": 49,
   "metadata": {},
   "outputs": [
    {
     "name": "stdout",
     "output_type": "stream",
     "text": [
      "[3, 2] [3, 2]\n",
      "[3, 2] [1, 2]\n"
     ]
    }
   ],
   "source": [
    "\n",
    "def local_copy(li):\n",
    "    loc=li\n",
    "    loc[0] = 3\n",
    "    return loc\n",
    "li=[1,2]\n",
    "print(local_copy(li), li)\n",
    "\n",
    "## if we actually want to make a copy that works\n",
    "def local_copy(li):\n",
    "    loc=list(li)\n",
    "    loc[0] = 3\n",
    "    return loc\n",
    "li=[1,2]\n",
    "print(local_copy(li), li)\n"
   ]
  },
  {
   "cell_type": "markdown",
   "metadata": {},
   "source": [
    "# Read in files, Write to files"
   ]
  },
  {
   "cell_type": "markdown",
   "metadata": {},
   "source": [
    "## Open and close files"
   ]
  },
  {
   "cell_type": "markdown",
   "metadata": {},
   "source": [
    "To open a text file, there is the `open()` function. It accepts 2 arguments: name of the file and the opening mode for the file.\n",
    "\n",
    "| Modes | Meaning |\n",
    "|:------:|--------|\n",
    "| r   | read-only mode |\n",
    "| w   | write-only mode |\n",
    "| a   | append to existing file |\n",
    "| r+  | read and write mode |\n",
    "\n",
    "For binary files, you need to append `b` to the mode so Python knows to read or write byte objects.\n",
    "To read in data, there are 3 methods: `read()`, `readline()`, `readlines()`. The only difference is the amount of data they read from the file. `read()` will only read the given number of charaters (or whole file), `readline()` reads the file line by line, `readlines()` reads in the entire file or a maximum number of bytes/characters.\n",
    "Also, Python handily manages the conversion of end of line markers (`\\n` on Unix, `\\r\\n` on Windows) so you don't have to worry about it.\n",
    "\n",
    "To close a file, use the `close()` method."
   ]
  },
  {
   "cell_type": "markdown",
   "metadata": {},
   "source": [
    "## Read from a file"
   ]
  },
  {
   "cell_type": "code",
   "execution_count": 60,
   "metadata": {},
   "outputs": [],
   "source": [
    "#f.seek(0) allows to rewind thef ile to the start of the file after each read.\n",
    "#Check what each output looks like. What is the difference betwee 'f.read()' and 'f.readlines()?'\n",
    "\n",
    "f=open('test.txt','r')\n",
    "whole_file = f.read()\n",
    "f.seek(0) \n",
    "first_line = f.readline()\n",
    "f.seek(0)\n",
    "whole2 = f.readlines()\n",
    "f.close()"
   ]
  },
  {
   "cell_type": "code",
   "execution_count": 62,
   "metadata": {},
   "outputs": [
    {
     "name": "stdout",
     "output_type": "stream",
     "text": [
      "This is an example text file.\n",
      "Let's see what happens with csv-type files\n",
      "50, 30, 40\n",
      "70, 20, 30\n",
      " This is an example text file.\n",
      " ['This is an example text file.\\n', \"Let's see what happens with csv-type files\\n\", '50, 30, 40\\n', '70, 20, 30\\n']\n"
     ]
    }
   ],
   "source": [
    "print(whole_file, # the whole file\n",
    "      first_line, # Just teh first line of the text\n",
    "      whole2) # List of strings, each element of list is one line of the file"
   ]
  },
  {
   "cell_type": "code",
   "execution_count": 63,
   "metadata": {},
   "outputs": [
    {
     "data": {
      "text/plain": [
       "\"This is an example text file.\\nLet's see what happens with csv-type files\\n50, 30, 40\\n70, 20, 30\\n\""
      ]
     },
     "execution_count": 63,
     "metadata": {},
     "output_type": "execute_result"
    }
   ],
   "source": [
    "whole_file # WHole file in one string, keeps end of line markers"
   ]
  },
  {
   "cell_type": "markdown",
   "metadata": {},
   "source": [
    "## Write to file\n",
    "Symmetrical to reading in"
   ]
  },
  {
   "cell_type": "code",
   "execution_count": 68,
   "metadata": {},
   "outputs": [],
   "source": [
    "f = open('my_file.txt', 'w')\n",
    "f.write('Hello!')\n",
    "lines=['Other line', 'One more']\n",
    "f.writelines(lines)\n",
    "f.close()"
   ]
  },
  {
   "cell_type": "markdown",
   "metadata": {},
   "source": [
    "To check what is in the file we use the iPython magic commands to call the cat bash command"
   ]
  },
  {
   "cell_type": "code",
   "execution_count": null,
   "metadata": {},
   "outputs": [],
   "source": [
    "!more my_file.txt #the given notes said use !cat but it didnt work, !more seems to do the same thing though"
   ]
  },
  {
   "cell_type": "code",
   "execution_count": 76,
   "metadata": {},
   "outputs": [],
   "source": [
    "f = open('my_file.txt', 'w')\n",
    "f.write('Hello!\\n')\n",
    "lines=['Other line\\n', 'One more\\n']\n",
    "f.writelines(lines)\n",
    "f.close()"
   ]
  },
  {
   "cell_type": "code",
   "execution_count": 106,
   "metadata": {
    "scrolled": true
   },
   "outputs": [
    {
     "name": "stdout",
     "output_type": "stream",
     "text": [
      "Hello!\n",
      "Other line\n",
      "One more\n"
     ]
    }
   ],
   "source": [
    "!more my_file.txt"
   ]
  },
  {
   "cell_type": "markdown",
   "metadata": {},
   "source": [
    "## With Statement\n",
    "can use the with statement to work with file. This is commonly used as it provides better error handline and cloes teh file for you"
   ]
  },
  {
   "cell_type": "code",
   "execution_count": 82,
   "metadata": {},
   "outputs": [
    {
     "name": "stdout",
     "output_type": "stream",
     "text": [
      "This is an example text file.\n",
      "\n"
     ]
    },
    {
     "ename": "ValueError",
     "evalue": "I/O operation on closed file.",
     "output_type": "error",
     "traceback": [
      "\u001b[1;31m---------------------------------------------------------------------------\u001b[0m",
      "\u001b[1;31mValueError\u001b[0m                                Traceback (most recent call last)",
      "\u001b[1;32m<ipython-input-82-b8c02d7260a8>\u001b[0m in \u001b[0;36m<module>\u001b[1;34m\u001b[0m\n\u001b[0;32m      3\u001b[0m \u001b[1;33m\u001b[0m\u001b[0m\n\u001b[0;32m      4\u001b[0m \u001b[0mprint\u001b[0m\u001b[1;33m(\u001b[0m\u001b[0mfirst_line\u001b[0m\u001b[1;33m)\u001b[0m\u001b[1;33m\u001b[0m\u001b[1;33m\u001b[0m\u001b[0m\n\u001b[1;32m----> 5\u001b[1;33m \u001b[0msecond_line\u001b[0m \u001b[1;33m=\u001b[0m \u001b[0mf\u001b[0m\u001b[1;33m.\u001b[0m\u001b[0mreadline\u001b[0m\u001b[1;33m(\u001b[0m\u001b[1;33m)\u001b[0m\u001b[1;33m\u001b[0m\u001b[1;33m\u001b[0m\u001b[0m\n\u001b[0m\u001b[0;32m      6\u001b[0m \u001b[0mprint\u001b[0m\u001b[1;33m(\u001b[0m\u001b[0msecond_line\u001b[0m\u001b[1;33m)\u001b[0m\u001b[1;33m\u001b[0m\u001b[1;33m\u001b[0m\u001b[0m\n\u001b[0;32m      7\u001b[0m \u001b[1;33m\u001b[0m\u001b[0m\n",
      "\u001b[1;31mValueError\u001b[0m: I/O operation on closed file."
     ]
    }
   ],
   "source": [
    "with open('test.txt', 'r') as f:\n",
    "    first_line = f.readline()\n",
    "    \n",
    "print(first_line)\n",
    "second_line = f.readline()\n",
    "print(second_line)\n",
    "\n",
    "#This error occurs because the with automatically closes teh file"
   ]
  },
  {
   "cell_type": "markdown",
   "metadata": {},
   "source": [
    "## Exercise\n",
    "\n",
    "\n"
   ]
  },
  {
   "cell_type": "markdown",
   "metadata": {},
   "source": [
    "Exercise\n",
    "Create a list of the numerical tabular values in test.txt. Make sure the values are of a numeric type (hint: check the Python builtin functions here).\n",
    "https://docs.python.org/3/library/functions.html#built-in-functions\n",
    "\n",
    "Format the list as you wish:\n",
    "\n",
    "[50,30,40,70,20,30]\n",
    "\n",
    "[[50,30,40],[70,20,30]]\n",
    "\n",
    "[[50,70],[30,20],[40,30]]\n",
    "\n",
    " \n",
    "\n",
    "with open('test.txt','r') as f:\n",
    "    # skip the header\n",
    "    head_length=2 # number of lines in the reader\n",
    "    for i in range(head_length):\n",
    "        f.readline()\n",
    "\n",
    "### Create a list to store the data\n",
    "li = []\n",
    "li2 = []\n",
    "li3 = []\n",
    "### Read each line and parse as needed.\n",
    "for line in f.readlines():\n",
    "    tt = line.split(',')\n",
    "    tmp = [int(numb) for numb in tt]\n",
    "    li.extend(tmp)\n",
    "    li2.append(tmp)\n",
    "    if li3 == []:\n",
    "        li3=[[n] for n in tmp]\n",
    "    else:\n",
    "        for ind in range(len(tmp)):\n",
    "            li3[ind].append(tmp[ind])"
   ]
  },
  {
   "cell_type": "code",
   "execution_count": 94,
   "metadata": {},
   "outputs": [
    {
     "name": "stdout",
     "output_type": "stream",
     "text": [
      "[50, 30, 40, 50, 30, 40]\n",
      "[70, 20, 30, 70, 20, 30]\n"
     ]
    }
   ],
   "source": [
    "with open('test.txt','r') as f:\n",
    "    # skip the header\n",
    "    head_length=2 # number of lines in the reader\n",
    "    for i in range(head_length):\n",
    "        f.readline()\n",
    "\n",
    "### Create a list to store the data\n",
    "    li = []\n",
    "    li2 = []\n",
    "    li3 = []\n",
    "### Read each line and parse as needed.\n",
    "    for line in f.readlines():\n",
    "        tt = line.split(',')\n",
    "        tmp = [int(numb) for numb in tt]\n",
    "        for numb in tt:\n",
    "            tmp.append(int(numb))\n",
    "        print(tmp)\n",
    "    tmp=[int (numb) for numb in tt]"
   ]
  },
  {
   "cell_type": "markdown",
   "metadata": {},
   "source": [
    "# Addiotonal Packages"
   ]
  },
  {
   "cell_type": "markdown",
   "metadata": {},
   "source": [
    "When you start Python very little gets loaded by default. This is to ensure a quick start of the interpreter and a lower memory usage. Obviously, you will need more than the default.\n",
    "\n",
    "Additionally, Python is open-sourced and as such lots of additional packages have been contributed over the years. These packages need to be installed before being able to use them.\n",
    "\n",
    "There are several ways to install packages. A simple one for individuals is Anaconda or Miniconda. That is what you used to prepare for this training (remember the instructions sent before the first training?). One advantage is that it handles dependencies on other packages and non-Python libraries for you. One disadvantage is that not all packages are shared via conda. It also creates a lot of files, which is not good for NCI.\n",
    "\n",
    "For working at NCI, the CMS maintain several Python environments to avoid duplications. These are quite extensive and we are open to installing more packages (as long as they are compatible with the existing environment). Please try those environments before installing your own. They are publicly opened, so not just for the Centre's folk.\n",
    "\n",
    "```\n",
    "module use /g/data/hh5/public/modules\n",
    "module load conda\n",
    "```\n",
    "\n",
    "This will load the stable environment for Python 3, which is most likely the one you want to use. A list of the packages under this environment can be found with: `conda list`"
   ]
  },
  {
   "cell_type": "markdown",
   "metadata": {},
   "source": [
    "### Load packages for use in your scripts or notebooks\n",
    "You can load new packages at any point in your script. It's usually done at the top but it doesn't have to."
   ]
  },
  {
   "cell_type": "code",
   "execution_count": 98,
   "metadata": {},
   "outputs": [],
   "source": [
    "import numpy    # Most basic form. Imports the whole package\n",
    "import numpy as np   # Imports the whole package but give an alias to save on typing in your code\n",
    "from matplotlib import pyplot as plt   # Import just one part of the package.\n",
    "import matplotlib.pyplot as plt   # Does the same as above."
   ]
  },
  {
   "cell_type": "code",
   "execution_count": 99,
   "metadata": {},
   "outputs": [
    {
     "data": {
      "text/plain": [
       "array([ 0,  1,  2,  3,  4,  5,  6,  7,  8,  9, 10, 11, 12, 13, 14, 15, 16,\n",
       "       17, 18, 19])"
      ]
     },
     "execution_count": 99,
     "metadata": {},
     "output_type": "execute_result"
    }
   ],
   "source": [
    "# To use a package:\n",
    "a = np.arange(20)\n",
    "a"
   ]
  },
  {
   "cell_type": "markdown",
   "metadata": {},
   "source": [
    "### Some useful packages\n",
    "\n",
    "From basic Python install:\n",
    " - <span style='color:orangered'>os</span>: operating system, e.g. environment variables, working directory, change permissions on files and directories.\n",
    " - <span style='color:orangered'>pathlib</span>: pathname manipulations, e.g. separate or join basename and file name, check file existence.\n",
    " - <span style='color:orangered'>shutil</span>: file operations, e.g. copy, move, delete files\n",
    " - <span style='color:orangered'>glob</span>: pathname pattern expansion, e.g. list of files matching: './[0-9].*'\n",
    " - <span style='color:orangered'>argparse</span>: parser for command-line options.\n",
    " - <span style='color:orangered'>subprocess</span>: to run a separate program.\n",
    " \n",
    "Additional packages:\n",
    " - <span style='color:orangered'>numpy</span>: arrays in Python\n",
    " - <span style='color:orangered'>scipy</span>: more maths functions (FFT, ODE, linear algebra, interpolation etc.)\n",
    " - <span style='color:orangered'>pandas</span>: the ultimate to work with time series\n",
    " - <span style='color:orangered'>xarray</span>: better arrays in Python (labelled arrays)\n",
    " - <span style='color:orangered'>matplotlib</span>: plotting in Python\n",
    " - <span style='color:orangered'>cartopy</span>: map projection and plotting in Python\n",
    " - <span style='color:orangered'>dask</span>: parallelisation "
   ]
  },
  {
   "cell_type": "code",
   "execution_count": null,
   "metadata": {},
   "outputs": [],
   "source": []
  }
 ],
 "metadata": {
  "kernelspec": {
   "display_name": "Python 3",
   "language": "python",
   "name": "python3"
  },
  "language_info": {
   "codemirror_mode": {
    "name": "ipython",
    "version": 3
   },
   "file_extension": ".py",
   "mimetype": "text/x-python",
   "name": "python",
   "nbconvert_exporter": "python",
   "pygments_lexer": "ipython3",
   "version": "3.8.5"
  }
 },
 "nbformat": 4,
 "nbformat_minor": 4
}
