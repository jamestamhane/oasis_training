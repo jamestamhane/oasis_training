{
 "cells": [
  {
   "cell_type": "markdown",
   "metadata": {},
   "source": [
    "# Addiotonal Packages"
   ]
  },
  {
   "cell_type": "markdown",
   "metadata": {},
   "source": [
    "When you start Python very little gets loaded by default. This is to ensure a quick start of the interpreter and a lower memory usage. Obviously, you will need more than the default.\n",
    "\n",
    "Additionally, Python is open-sourced and as such lots of additional packages have been contributed over the years. These packages need to be installed before being able to use them.\n",
    "\n",
    "There are several ways to install packages. A simple one for individuals is Anaconda or Miniconda. That is what you used to prepare for this training (remember the instructions sent before the first training?). One advantage is that it handles dependencies on other packages and non-Python libraries for you. One disadvantage is that not all packages are shared via conda. It also creates a lot of files, which is not good for NCI.\n",
    "\n",
    "For working at NCI, the CMS maintain several Python environments to avoid duplications. These are quite extensive and we are open to installing more packages (as long as they are compatible with the existing environment). Please try those environments before installing your own. They are publicly opened, so not just for the Centre's folk.\n",
    "\n",
    "```\n",
    "module use /g/data/hh5/public/modules\n",
    "module load conda\n",
    "```\n",
    "\n",
    "This will load the stable environment for Python 3, which is most likely the one you want to use. A list of the packages under this environment can be found with: `conda list`"
   ]
  },
  {
   "cell_type": "markdown",
   "metadata": {},
   "source": [
    "### Load packages for use in your scripts or notebooks\n",
    "You can load new packages at any point in your script. It's usually done at the top but it doesn't have to."
   ]
  },
  {
   "cell_type": "code",
   "execution_count": 1,
   "metadata": {},
   "outputs": [],
   "source": [
    "import numpy    # Most basic form. Imports the whole package\n",
    "import numpy as np   # Imports the whole package but give an alias to save on typing in your code\n",
    "from matplotlib import pyplot as plt   # Import just one part of the package.\n",
    "import matplotlib.pyplot as plt   # Does the same as above."
   ]
  },
  {
   "cell_type": "code",
   "execution_count": 2,
   "metadata": {},
   "outputs": [
    {
     "data": {
      "text/plain": [
       "array([ 0,  1,  2,  3,  4,  5,  6,  7,  8,  9, 10, 11, 12, 13, 14, 15, 16,\n",
       "       17, 18, 19])"
      ]
     },
     "execution_count": 2,
     "metadata": {},
     "output_type": "execute_result"
    }
   ],
   "source": [
    "# To use a package:\n",
    "a = np.arange(20)\n",
    "a"
   ]
  },
  {
   "cell_type": "markdown",
   "metadata": {},
   "source": [
    "### Some useful packages\n",
    "\n",
    "From basic Python install:\n",
    " - <span style='color:orangered'>os</span>: operating system, e.g. environment variables, working directory, change permissions on files and directories.\n",
    " - <span style='color:orangered'>pathlib</span>: pathname manipulations, e.g. separate or join basename and file name, check file existence.\n",
    " - <span style='color:orangered'>shutil</span>: file operations, e.g. copy, move, delete files\n",
    " - <span style='color:orangered'>glob</span>: pathname pattern expansion, e.g. list of files matching: './[0-9].*'\n",
    " - <span style='color:orangered'>argparse</span>: parser for command-line options.\n",
    " - <span style='color:orangered'>subprocess</span>: to run a separate program.\n",
    " \n",
    "Additional packages:\n",
    " - <span style='color:orangered'>numpy</span>: arrays in Python\n",
    " - <span style='color:orangered'>scipy</span>: more maths functions (FFT, ODE, linear algebra, interpolation etc.)\n",
    " - <span style='color:orangered'>pandas</span>: the ultimate to work with time series\n",
    " - <span style='color:orangered'>xarray</span>: better arrays in Python (labelled arrays)\n",
    " - <span style='color:orangered'>matplotlib</span>: plotting in Python\n",
    " - <span style='color:orangered'>cartopy</span>: map projection and plotting in Python\n",
    " - <span style='color:orangered'>dask</span>: parallelisation "
   ]
  },
  {
   "cell_type": "code",
   "execution_count": null,
   "metadata": {},
   "outputs": [],
   "source": []
  }
 ],
 "metadata": {
  "kernelspec": {
   "display_name": "Python 3",
   "language": "python",
   "name": "python3"
  },
  "language_info": {
   "codemirror_mode": {
    "name": "ipython",
    "version": 3
   },
   "file_extension": ".py",
   "mimetype": "text/x-python",
   "name": "python",
   "nbconvert_exporter": "python",
   "pygments_lexer": "ipython3",
   "version": "3.8.5"
  }
 },
 "nbformat": 4,
 "nbformat_minor": 4
}
